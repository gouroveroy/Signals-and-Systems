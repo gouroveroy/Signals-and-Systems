{
 "cells": [
  {
   "cell_type": "code",
   "execution_count": null,
   "metadata": {},
   "outputs": [
    {
     "name": "stdout",
     "output_type": "stream",
     "text": [
      "-0.0\n"
     ]
    }
   ],
   "source": [
    "import numpy as np\n",
    "\n",
    "# t = np.linspace(0, np.pi, 1000000000) # don't use the 10^9 points, it will take a long time to compute, even can be slow down your computer or take full memory usage\n",
    "t = np.linspace(0, np.pi, 10000000)\n",
    "\n",
    "x = np.cos(t)\n",
    "\n",
    "y = np.sin(t)\n",
    "\n",
    "print(np.ceil(np.trapezoid(x, t)))"
   ]
  }
 ],
 "metadata": {
  "kernelspec": {
   "display_name": "Python 3",
   "language": "python",
   "name": "python3"
  },
  "language_info": {
   "codemirror_mode": {
    "name": "ipython",
    "version": 3
   },
   "file_extension": ".py",
   "mimetype": "text/x-python",
   "name": "python",
   "nbconvert_exporter": "python",
   "pygments_lexer": "ipython3",
   "version": "3.12.4"
  }
 },
 "nbformat": 4,
 "nbformat_minor": 2
}
